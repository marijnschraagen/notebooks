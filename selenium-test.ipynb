{
 "cells": [
  {
   "cell_type": "markdown",
   "metadata": {},
   "source": [
    "# NU.nl comment harvester\n",
    "\n",
    "You need the Python library selenium (pip install selenium) and the geckodriver: https://github.com/mozilla/geckodriver/releases\n",
    "\n",
    "Instructions:\n",
    "\n",
    "1. point your web browser to a nu.nl news article\n",
    "2. open the comment section by clicking on \"number reacties\" below the article\n",
    "3. right click on a comment, choose \"This frame\" and then \"Show only this frame\" (tested in Firefox browser)\n",
    "4. a new web page opens: get the address of this webpage\n",
    "5. add the web page address in first code block below in a new line WEBPAGE=\"...\" below the other ones\n",
    "6. run the first code block\n",
    "7. a new window open with the comments\n",
    "8. open all comments by searching for \"meer reacties\" and clicking on the buttons\n",
    "9. run the second code block and wait (this takes a lot of time)\n",
    "10. the comments are stored in a file nunl-comments.csv"
   ]
  },
  {
   "cell_type": "code",
   "execution_count": null,
   "metadata": {},
   "outputs": [],
   "source": [
    "from selenium import webdriver\n",
    "\n",
    "DRIVER = \"/usr/bin/geckodriver\"\n",
    "#WEBPAGE = \"https://talk.nu.nl/embed/stream?asset_url=https%3A%2F%2Fwww.nu.nl%2Fartikel%2F6028348%2Fredirect.html&initialWidth=601&childId=coral_talk_wrapper&parentTitle=Mondkapjes%20tegen%20besmetting%3A%20hoe%20goed%20werken%20ze%20echt%3F%20%7C%20NU%20-%20Het%20laatste%20nieuws%20het%20eerst%20op%20NU.nl&parentUrl=https%3A%2F%2Fwww.nu.nl%2Fgezondheid%2F6028348%2Fmondkapjes-tegen-besmetting-hoe-goed-werken-ze-echt.html%23coral_talk_wrapper\"\n",
    "#WEBPAGE = \"https://talk.nu.nl/embed/stream?asset_url=https%3A%2F%2Fwww.nu.nl%2Fartikel%2F6038728%2Fredirect.html&initialWidth=601&childId=coral_talk_wrapper&parentTitle=Nederlands%20bedrijf%20maakt%20miljoenen%20mondkapjes%20voor%20Azi%C3%AB%2C%20amper%20voor%20hier%20%7C%20NU%20-%20Het%20laatste%20nieuws%20het%20eerst%20op%20NU.nl&parentUrl=https%3A%2F%2Fwww.nu.nl%2Fcoronavirus%2F6038728%2Fnederlands-bedrijf-maakt-miljoenen-mondkapjes-voor-azie-amper-voor-hier.html%23coral_talk_wrapper\"\n",
    "#WEBPAGE=\"https://talk.nu.nl/embed/stream?asset_url=https%3A%2F%2Fwww.nu.nl%2Fartikel%2F6042433%2Fredirect.html&initialWidth=601&childId=coral_talk_wrapper&parentTitle=Mondkapjes%20volgens%20RIVM%20niet%20zinvol%2C%20standpunt%20andere%20landen%20verandert%20%7C%20NU%20-%20Het%20laatste%20nieuws%20het%20eerst%20op%20NU.nl&parentUrl=https%3A%2F%2Fwww.nu.nl%2Fcoronavirus%2F6042433%2Fmondkapjes-volgens-rivm-niet-zinvol-standpunt-andere-landen-verandert.html%23coral_talk_wrapper\"\n",
    "WEBPAGE=\"https://talk.nu.nl/embed/stream?asset_url=https%3A%2F%2Fwww.nu.nl%2Fartikel%2F6048436%2Fredirect.html&initialWidth=601&childId=coral_talk_wrapper&parentTitle=Goed%20nieuws%3A%20Coronasneltest%20in%20Nederland%20%7C%20Miljoen%20mensen%20genezen%20%7C%20NU%20-%20Het%20laatste%20nieuws%20het%20eerst%20op%20NU.nl&parentUrl=https%3A%2F%2Fwww.nu.nl%2Falgemeen%2F6048436%2Fgoed-nieuws-coronasneltest-in-nederland-miljoen-mensen-genezen.html%23coral_talk_wrapper\"\n",
    "driver = webdriver.Firefox(executable_path=DRIVER)\n",
    "driver.get(WEBPAGE)\n",
    "driver.execute_script(\"window.scrollBy(0,document.body.scrollHeight)\")"
   ]
  },
  {
   "cell_type": "code",
   "execution_count": null,
   "metadata": {},
   "outputs": [],
   "source": [
    "from IPython.display import clear_output\n",
    "import pandas as pd\n",
    "import re\n",
    "\n",
    "COMMENT = r\"^Comment__commentContainer\"\n",
    "AUTHORNAME = r\"^AuthorName__name\"\n",
    "TIMESTAMP = r\"^CommentTimestamp__timestamp\"\n",
    "TEXT = r\"^Comment__content\"\n",
    "CLASS = \"class\"\n",
    "TITLE = \"title\"\n",
    "XPATHID = \"../../..\"\n",
    "XPATHPARENTID = \"../../../../..\"\n",
    "OUTPUTFILE = \"nunl-comments.csv\"\n",
    "\n",
    "data = []\n",
    "for e in driver.find_elements_by_xpath(\"//div\"):\n",
    "    eClass = e.get_attribute(CLASS)\n",
    "    if re.search(COMMENT,eClass):\n",
    "        eId = e.find_elements_by_xpath(XPATHID)[0].id\n",
    "        parent = e.find_elements_by_xpath(XPATHPARENTID)[0].id\n",
    "        authorName = \"\"\n",
    "        timeStamp = \"\"\n",
    "        text = \"\"\n",
    "        for f in e.find_elements_by_xpath(\".//*\"):\n",
    "            fClass = f.get_attribute(CLASS)\n",
    "            if fClass != eClass:\n",
    "                if re.search(AUTHORNAME,fClass): \n",
    "                    authorName = f.text\n",
    "                elif re.search(TIMESTAMP,fClass): \n",
    "                    timeStamp = f.get_attribute(TITLE)\n",
    "                elif re.search(TEXT,fClass): \n",
    "                    text = re.sub(\"\\n\",\" \",f.text)\n",
    "                    break\n",
    "        data.append({\"id\":eId,\"name\":authorName,\"date\":timeStamp,\"text\":text,\"parent\":parent})\n",
    "        clear_output(wait=True)\n",
    "        print(\"processed:\",len(data))\n",
    "\n",
    "df = pd.DataFrame(data)\n",
    "df.to_csv(OUTPUTFILE,index=False)"
   ]
  },
  {
   "cell_type": "code",
   "execution_count": null,
   "metadata": {},
   "outputs": [],
   "source": []
  }
 ],
 "metadata": {
  "kernelspec": {
   "display_name": "Python 3",
   "language": "python",
   "name": "python3"
  },
  "language_info": {
   "codemirror_mode": {
    "name": "ipython",
    "version": 3
   },
   "file_extension": ".py",
   "mimetype": "text/x-python",
   "name": "python",
   "nbconvert_exporter": "python",
   "pygments_lexer": "ipython3",
   "version": "3.7.3"
  }
 },
 "nbformat": 4,
 "nbformat_minor": 4
}
