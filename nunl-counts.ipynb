{
 "cells": [
  {
   "cell_type": "markdown",
   "metadata": {},
   "source": [
    "## Content analysis"
   ]
  },
  {
   "cell_type": "code",
   "execution_count": 8,
   "metadata": {},
   "outputs": [
    {
     "data": {
      "text/html": [
       "<div>\n",
       "<style scoped>\n",
       "    .dataframe tbody tr th:only-of-type {\n",
       "        vertical-align: middle;\n",
       "    }\n",
       "\n",
       "    .dataframe tbody tr th {\n",
       "        vertical-align: top;\n",
       "    }\n",
       "\n",
       "    .dataframe thead th {\n",
       "        text-align: right;\n",
       "    }\n",
       "</style>\n",
       "<table border=\"1\" class=\"dataframe\">\n",
       "  <thead>\n",
       "    <tr style=\"text-align: right;\">\n",
       "      <th></th>\n",
       "      <th>name</th>\n",
       "      <th>date</th>\n",
       "      <th>text</th>\n",
       "      <th>parent</th>\n",
       "    </tr>\n",
       "    <tr>\n",
       "      <th>id</th>\n",
       "      <th></th>\n",
       "      <th></th>\n",
       "      <th></th>\n",
       "      <th></th>\n",
       "    </tr>\n",
       "  </thead>\n",
       "  <tbody>\n",
       "    <tr>\n",
       "      <td>3ccc13b3-d1b5-409d-bc7c-e233ae3524a4</td>\n",
       "      <td>Popeye_xl</td>\n",
       "      <td>20200404</td>\n",
       "      <td>Onzin, dus mondkapjes werken wel in de ziekenh...</td>\n",
       "      <td>3dd2894c-f443-4097-8605-9573748dea90</td>\n",
       "    </tr>\n",
       "    <tr>\n",
       "      <td>f29d5e9f-29c9-4c55-9e96-0e742a5021da</td>\n",
       "      <td>Milanevic</td>\n",
       "      <td>20200404</td>\n",
       "      <td>Dat het niet beschermd dat je word besmet klop...</td>\n",
       "      <td>1d18b602-7ee6-4dff-b92d-c0549bb28947</td>\n",
       "    </tr>\n",
       "    <tr>\n",
       "      <td>07c65bf4-c1e1-4907-8b14-1fa8865e6d03</td>\n",
       "      <td>ilovejb</td>\n",
       "      <td>20200404</td>\n",
       "      <td>Ik vermoed omdat er een groot tekort aan mondk...</td>\n",
       "      <td>446eb98f-2e98-4b78-a6ab-6ece7a4a158f</td>\n",
       "    </tr>\n",
       "    <tr>\n",
       "      <td>5e45326d-9e79-4110-9a68-1004946a72a1</td>\n",
       "      <td>Suuuzzy</td>\n",
       "      <td>20200404</td>\n",
       "      <td>Dat ik heb de overheid een paar keer horen zeg...</td>\n",
       "      <td>51398b4f-41c6-400c-bf29-3c8c3ca71720</td>\n",
       "    </tr>\n",
       "    <tr>\n",
       "      <td>ab98306d-f5cd-4925-af52-386ba0aaebbf</td>\n",
       "      <td>IkBenThomas</td>\n",
       "      <td>20200404</td>\n",
       "      <td>Er is gewoon wereldwijd een tekort aan mondkap...</td>\n",
       "      <td>01500981-3b4c-4134-99c7-e17967e9662f</td>\n",
       "    </tr>\n",
       "    <tr>\n",
       "      <td>...</td>\n",
       "      <td>...</td>\n",
       "      <td>...</td>\n",
       "      <td>...</td>\n",
       "      <td>...</td>\n",
       "    </tr>\n",
       "    <tr>\n",
       "      <td>eeb324f8-72a9-43fa-b90e-ac16797b2a20</td>\n",
       "      <td>Welkenaamisdanweloke</td>\n",
       "      <td>20200403</td>\n",
       "      <td>Zoals eerder vermeld. Dat beleid is gericht op...</td>\n",
       "      <td>1e307ca4-704c-4cf4-be67-c3cdcd73ebec</td>\n",
       "    </tr>\n",
       "    <tr>\n",
       "      <td>029f7035-99b2-46e8-9385-830cc28be1ef</td>\n",
       "      <td>RatuAdil</td>\n",
       "      <td>20200403</td>\n",
       "      <td>Nee dat beleid is niet enkel daar op gericht.</td>\n",
       "      <td>b867aefe-5fbf-4e35-9937-80578f956b14</td>\n",
       "    </tr>\n",
       "    <tr>\n",
       "      <td>15cde194-cf6e-4259-94f8-8de97ff56cdf</td>\n",
       "      <td>RatuAdil</td>\n",
       "      <td>20200403</td>\n",
       "      <td>Het is zelfs zo dat onjuist gebruik van dergel...</td>\n",
       "      <td>59e137d1-8e4d-4168-b3d1-ff4e6bc6bb36</td>\n",
       "    </tr>\n",
       "    <tr>\n",
       "      <td>b48b40d1-0e3d-4f12-92c4-e3f787b168e3</td>\n",
       "      <td>Welkenaamisdanweloke</td>\n",
       "      <td>20200403</td>\n",
       "      <td>Mag u mij eens uitleggen watvoor magisch mondk...</td>\n",
       "      <td>8bc9d554-7f38-4b39-a288-22eab22cb95f</td>\n",
       "    </tr>\n",
       "    <tr>\n",
       "      <td>1caf6462-0ae7-469b-94db-78c1f200978a</td>\n",
       "      <td>Kees_Lees</td>\n",
       "      <td>20200403</td>\n",
       "      <td>Precies dit. Ik vind het oprecht zorgwekkend d...</td>\n",
       "      <td>e65fed9a-37f9-4c62-92a7-8abc05f0851d</td>\n",
       "    </tr>\n",
       "  </tbody>\n",
       "</table>\n",
       "<p>745 rows × 4 columns</p>\n",
       "</div>"
      ],
      "text/plain": [
       "                                                      name      date  \\\n",
       "id                                                                     \n",
       "3ccc13b3-d1b5-409d-bc7c-e233ae3524a4             Popeye_xl  20200404   \n",
       "f29d5e9f-29c9-4c55-9e96-0e742a5021da             Milanevic  20200404   \n",
       "07c65bf4-c1e1-4907-8b14-1fa8865e6d03               ilovejb  20200404   \n",
       "5e45326d-9e79-4110-9a68-1004946a72a1               Suuuzzy  20200404   \n",
       "ab98306d-f5cd-4925-af52-386ba0aaebbf           IkBenThomas  20200404   \n",
       "...                                                    ...       ...   \n",
       "eeb324f8-72a9-43fa-b90e-ac16797b2a20  Welkenaamisdanweloke  20200403   \n",
       "029f7035-99b2-46e8-9385-830cc28be1ef              RatuAdil  20200403   \n",
       "15cde194-cf6e-4259-94f8-8de97ff56cdf              RatuAdil  20200403   \n",
       "b48b40d1-0e3d-4f12-92c4-e3f787b168e3  Welkenaamisdanweloke  20200403   \n",
       "1caf6462-0ae7-469b-94db-78c1f200978a             Kees_Lees  20200403   \n",
       "\n",
       "                                                                                   text  \\\n",
       "id                                                                                        \n",
       "3ccc13b3-d1b5-409d-bc7c-e233ae3524a4  Onzin, dus mondkapjes werken wel in de ziekenh...   \n",
       "f29d5e9f-29c9-4c55-9e96-0e742a5021da  Dat het niet beschermd dat je word besmet klop...   \n",
       "07c65bf4-c1e1-4907-8b14-1fa8865e6d03  Ik vermoed omdat er een groot tekort aan mondk...   \n",
       "5e45326d-9e79-4110-9a68-1004946a72a1  Dat ik heb de overheid een paar keer horen zeg...   \n",
       "ab98306d-f5cd-4925-af52-386ba0aaebbf  Er is gewoon wereldwijd een tekort aan mondkap...   \n",
       "...                                                                                 ...   \n",
       "eeb324f8-72a9-43fa-b90e-ac16797b2a20  Zoals eerder vermeld. Dat beleid is gericht op...   \n",
       "029f7035-99b2-46e8-9385-830cc28be1ef      Nee dat beleid is niet enkel daar op gericht.   \n",
       "15cde194-cf6e-4259-94f8-8de97ff56cdf  Het is zelfs zo dat onjuist gebruik van dergel...   \n",
       "b48b40d1-0e3d-4f12-92c4-e3f787b168e3  Mag u mij eens uitleggen watvoor magisch mondk...   \n",
       "1caf6462-0ae7-469b-94db-78c1f200978a  Precies dit. Ik vind het oprecht zorgwekkend d...   \n",
       "\n",
       "                                                                    parent  \n",
       "id                                                                          \n",
       "3ccc13b3-d1b5-409d-bc7c-e233ae3524a4  3dd2894c-f443-4097-8605-9573748dea90  \n",
       "f29d5e9f-29c9-4c55-9e96-0e742a5021da  1d18b602-7ee6-4dff-b92d-c0549bb28947  \n",
       "07c65bf4-c1e1-4907-8b14-1fa8865e6d03  446eb98f-2e98-4b78-a6ab-6ece7a4a158f  \n",
       "5e45326d-9e79-4110-9a68-1004946a72a1  51398b4f-41c6-400c-bf29-3c8c3ca71720  \n",
       "ab98306d-f5cd-4925-af52-386ba0aaebbf  01500981-3b4c-4134-99c7-e17967e9662f  \n",
       "...                                                                    ...  \n",
       "eeb324f8-72a9-43fa-b90e-ac16797b2a20  1e307ca4-704c-4cf4-be67-c3cdcd73ebec  \n",
       "029f7035-99b2-46e8-9385-830cc28be1ef  b867aefe-5fbf-4e35-9937-80578f956b14  \n",
       "15cde194-cf6e-4259-94f8-8de97ff56cdf  59e137d1-8e4d-4168-b3d1-ff4e6bc6bb36  \n",
       "b48b40d1-0e3d-4f12-92c4-e3f787b168e3  8bc9d554-7f38-4b39-a288-22eab22cb95f  \n",
       "1caf6462-0ae7-469b-94db-78c1f200978a  e65fed9a-37f9-4c62-92a7-8abc05f0851d  \n",
       "\n",
       "[745 rows x 4 columns]"
      ]
     },
     "execution_count": 8,
     "metadata": {},
     "output_type": "execute_result"
    }
   ],
   "source": [
    "import pandas as pd\n",
    "import re\n",
    "\n",
    "DATAFILE = \"nunl-comments3.csv\"\n",
    "DATE = \"date\"\n",
    "\n",
    "df = pd.read_csv(DATAFILE,index_col=\"id\")\n",
    "for i in df.index.values:\n",
    "    date = re.sub(r\",.*$\",\"\",df.loc[i][DATE])\n",
    "    month,day,year = date.split(\"/\")\n",
    "    month = month.zfill(2)\n",
    "    day = day.zfill(2)\n",
    "    df.loc[i][DATE] = year+month+day\n",
    "df"
   ]
  },
  {
   "cell_type": "code",
   "execution_count": 17,
   "metadata": {},
   "outputs": [
    {
     "name": "stdout",
     "output_type": "stream",
     "text": [
      "annotation time: 129 minutes (3.1 tweets per minute)\n"
     ]
    }
   ],
   "source": [
    "ANNOTATIONFILE = \"human-labels.txt\"\n",
    "\n",
    "inFile = open(ANNOTATIONFILE,\"r\")\n",
    "annotations = {}\n",
    "minutes = {}\n",
    "for line in inFile:\n",
    "    (userName,date,tweetId,nbr,label) = line.strip().split()\n",
    "    annotations[tweetId] = label\n",
    "    minutes[date[0:12]] = True\n",
    "inFile.close()\n",
    "\n",
    "print(\"annotation time: {0:d} minutes ({1:0.1f} tweets per minute)\".\\\n",
    "      format(len(minutes),round(len(annotations)/len(minutes),1)))"
   ]
  },
  {
   "cell_type": "code",
   "execution_count": 18,
   "metadata": {},
   "outputs": [
    {
     "data": {
      "text/plain": [
       "{'20200404': {'REJECTS': 13, 'NEUTRAL': 6, 'SUPPORTS': 14},\n",
       " '20200403': {'REJECTS': 145, 'NEUTRAL': 23, 'SUPPORTS': 75}}"
      ]
     },
     "execution_count": 18,
     "metadata": {},
     "output_type": "execute_result"
    }
   ],
   "source": [
    "IRRELEVANT = \"IRRELEVANT\"\n",
    "NEUTRAL = \"NEUTRAL\"\n",
    "SUPPORTS = \"SUPPORTS\"\n",
    "REJECTS = \"REJECTS\"\n",
    "ID = \"id\"\n",
    "\n",
    "labelsPerDate = {}\n",
    "totals = {}\n",
    "for textId in df.index.values:\n",
    "    if textId in annotations and annotations[textId] != IRRELEVANT:\n",
    "        date = df.loc[textId][DATE]\n",
    "        label = annotations[textId]\n",
    "        if not date in labelsPerDate: labelsPerDate[date] = {}\n",
    "        labelsPerDate[date][label] = labelsPerDate[date][label]+1 if label in labelsPerDate[date] else 1\n",
    "        totals[label] = totals[label]+1 if label in totals else 1\n",
    "labelsPerDate"
   ]
  },
  {
   "cell_type": "code",
   "execution_count": 20,
   "metadata": {},
   "outputs": [
    {
     "data": {
      "image/png": "[encoded data removed]",
      "text/plain": [
       "<Figure size 864x576 with 1 Axes>"
      ]
     },
     "metadata": {
      "needs_background": "light"
     },
     "output_type": "display_data"
    }
   ],
   "source": [
    "import matplotlib\n",
    "import matplotlib.pyplot as plt\n",
    "\n",
    "REJECTS = \"REJECTS\"\n",
    "SUPPORTS = \"SUPPORTS\"\n",
    "NEUTRAL = \"NEUTRAL\"\n",
    "\n",
    "labels = {\"REJECTS\":\"rejects\",\"SUPPORTS\":\"supports\",\"NEUTRAL\":\"neutral\"}\n",
    "percentages = {key:round(100*totals[key]/sum(totals.values())) for key in totals}\n",
    "font = {\"size\":16}\n",
    "matplotlib.rc(\"font\",**font)\n",
    "\n",
    "for date in labelsPerDate:\n",
    "    for label in [REJECTS,NEUTRAL,SUPPORTS]:\n",
    "        if not label in labelsPerDate[date]:\n",
    "            labelsPerDate[date][label] = 0\n",
    "\n",
    "negative = [labelsPerDate[date][REJECTS] for date in sorted(labelsPerDate.keys())]\n",
    "neutral = [labelsPerDate[date][NEUTRAL] for date in sorted(labelsPerDate.keys())]\n",
    "positive = [labelsPerDate[date][SUPPORTS] for date in sorted(labelsPerDate.keys())]\n",
    "negplusneu = [negative[i]+neutral[i] for i in range(0,len(neutral))]\n",
    "plt.figure(figsize=(12,8))\n",
    "plt.bar(list(sorted(labelsPerDate.keys())),positive,label=labels[SUPPORTS]+\" (\"+str(percentages[SUPPORTS])+\"%)\",bottom=negplusneu)\n",
    "plt.bar(list(sorted(labelsPerDate.keys())),neutral,label=labels[NEUTRAL]+\" (\"+str(percentages[NEUTRAL])+\"%)\",bottom=negative)\n",
    "plt.bar(list(sorted(labelsPerDate.keys())),negative,label=labels[REJECTS]+\" (\"+str(percentages[REJECTS])+\"%)\",color=\"r\")\n",
    "plt.title(\"Nu.nl comment opinion about RIVM advising against facemask use by general public\")\n",
    "plt.xticks(list(sorted(labelsPerDate.keys())),[\"Fri 3/4\",\"Sat 4/4\"])\n",
    "plt.legend()\n",
    "plt.show()"
   ]
  },
  {
   "cell_type": "code",
   "execution_count": null,
   "metadata": {},
   "outputs": [],
   "source": []
  }
 ],
 "metadata": {
  "kernelspec": {
   "display_name": "Python 3",
   "language": "python",
   "name": "python3"
  },
  "language_info": {
   "codemirror_mode": {
    "name": "ipython",
    "version": 3
   },
   "file_extension": ".py",
   "mimetype": "text/x-python",
   "name": "python",
   "nbconvert_exporter": "python",
   "pygments_lexer": "ipython3",
   "version": "3.7.3"
  }
 },
 "nbformat": 4,
 "nbformat_minor": 4
}
